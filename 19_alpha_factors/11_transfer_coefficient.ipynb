{
 "cells": [
  {
   "cell_type": "markdown",
   "metadata": {},
   "source": [
    "## Transfer Coefficient"
   ]
  },
  {
   "cell_type": "code",
   "execution_count": 1,
   "metadata": {},
   "outputs": [],
   "source": [
    "%matplotlib inline\n",
    "import matplotlib.pyplot as plt\n",
    "import numpy as np\n",
    "from scipy.stats.stats import pearsonr\n",
    "from scipy.stats.stats import spearmanr"
   ]
  },
  {
   "cell_type": "code",
   "execution_count": 2,
   "metadata": {},
   "outputs": [],
   "source": [
    "num_stocks = 500\n",
    "np.random.seed(201808)"
   ]
  },
  {
   "cell_type": "code",
   "execution_count": 3,
   "metadata": {},
   "outputs": [],
   "source": [
    "def standardize_alpha(alpha_vector):\n",
    "    return(alpha_vector - np.mean(alpha_vector))/np.sum(np.abs(alpha_vector))"
   ]
  },
  {
   "cell_type": "markdown",
   "metadata": {},
   "source": [
    "## Simulate an alpha vector for a single time period"
   ]
  },
  {
   "cell_type": "code",
   "execution_count": 4,
   "metadata": {},
   "outputs": [],
   "source": [
    "#make up data for an alpha vector for a single time period\n",
    "def simulate_alpha_vector():\n",
    "    alpha_vector = np.random.normal(size=num_stocks)\n",
    "    return alpha_vector"
   ]
  },
  {
   "cell_type": "code",
   "execution_count": 5,
   "metadata": {},
   "outputs": [],
   "source": [
    "alpha_vector = simulate_alpha_vector()"
   ]
  },
  {
   "cell_type": "code",
   "execution_count": 6,
   "metadata": {},
   "outputs": [
    {
     "data": {
      "text/plain": [
       "array([  4.77579685e-01,  -2.20987620e+00,   2.09819664e-01,\n",
       "         2.49245178e-01,   1.28910507e+00,   1.04151143e+00,\n",
       "        -9.60882058e-01,   8.25590693e-01,  -1.14541736e+00,\n",
       "        -1.29457112e+00,   3.96721718e-01,   1.72032218e+00,\n",
       "        -5.06568476e-01,  -5.54499842e-01,  -4.43878999e-01,\n",
       "        -7.57801068e-01,   7.49182500e-01,   3.72651489e-01,\n",
       "         1.70385025e+00,   6.78144670e-01,   2.10485468e-01,\n",
       "         5.57700400e-01,  -7.23299159e-01,  -1.60626569e+00,\n",
       "        -1.10100315e+00,  -1.89713615e-01,   1.39326834e+00,\n",
       "         3.12292949e-01,   2.67218218e-03,  -1.45081245e+00,\n",
       "         5.28495062e-01,   7.88419351e-01,  -4.32462714e-01,\n",
       "        -1.08946826e+00,   1.56642540e+00,  -3.36722519e-01,\n",
       "         5.92092947e-01,  -5.83351082e-01,  -1.20890747e+00,\n",
       "         1.38785308e-02,   3.64993908e-01,   8.77890609e-01,\n",
       "        -6.84198521e-01,   6.80435998e-02,  -3.40496182e-01,\n",
       "        -8.84901827e-01,   1.02403866e+00,  -2.23530114e-01,\n",
       "        -3.18186599e-01,   5.52314744e-01,  -1.12217104e+00,\n",
       "         8.46536931e-01,  -9.86766494e-01,   6.18797593e-01,\n",
       "         4.52766683e-02,  -1.99570106e+00,  -1.24669855e+00,\n",
       "        -8.21025058e-01,  -2.29383641e-01,  -5.24538000e-01,\n",
       "        -4.51874054e-01,   5.92086959e-01,  -5.35921578e-02,\n",
       "        -6.34815795e-01,  -9.06899202e-02,   4.09688651e-01,\n",
       "        -7.81368836e-02,  -3.31139116e-02,  -8.48695979e-01,\n",
       "         7.35270457e-01,  -5.08752149e-01,  -1.36353786e+00,\n",
       "        -5.47335475e-01,  -1.47946768e-02,  -2.76286613e-01,\n",
       "         9.07275489e-01,  -6.60017586e-01,  -6.37602948e-02,\n",
       "        -1.18760612e+00,  -1.87000106e+00,   8.63196060e-01,\n",
       "        -2.77771475e-01,   1.41688957e+00,   1.03992411e+00,\n",
       "        -3.81536731e-01,  -6.66145275e-01,  -6.78021036e-01,\n",
       "         5.85275005e-01,  -7.95255096e-02,  -7.56550276e-01,\n",
       "        -6.47749617e-01,  -1.06377700e+00,  -5.93341240e-01,\n",
       "        -1.36535425e-01,   1.25357201e+00,  -1.48181773e-02,\n",
       "         1.10551420e+00,  -1.21550240e+00,   5.55772370e-01,\n",
       "         2.73275690e-01,   1.65718175e+00,   9.07289427e-01,\n",
       "         1.10846917e+00,  -8.40880858e-01,  -1.90259478e+00,\n",
       "         1.84502220e+00,   1.49366259e+00,  -1.63682629e+00,\n",
       "         1.52298728e-01,   1.87737833e+00,   1.59157177e+00,\n",
       "        -2.19887120e-02,   5.33450373e-01,  -7.77037853e-01,\n",
       "        -3.93673835e-02,  -1.82226403e-01,   4.86676674e-01,\n",
       "         3.31999018e-01,   1.93670934e+00,  -1.02134066e+00,\n",
       "         5.17336512e-01,   2.14490169e-01,   2.74964020e-01,\n",
       "         1.11599827e+00,   1.49936772e+00,   5.45349157e-01,\n",
       "         1.57893757e+00,  -6.86496728e-01,  -6.48076987e-01,\n",
       "        -2.05500293e-01,   4.44169555e-01,   2.84567870e-01,\n",
       "         3.68751553e-01,  -4.59902497e-01,  -1.16675506e+00,\n",
       "         1.40540259e+00,  -4.01156549e-01,  -1.27377318e+00,\n",
       "         2.37035529e-01,   6.62401008e-01,  -4.16691929e-01,\n",
       "         3.27531304e-01,  -4.97299778e-01,  -1.03815972e+00,\n",
       "         1.91884566e+00,  -8.79118762e-01,   2.92202484e-01,\n",
       "         2.26561455e-01,   4.27873236e-01,   1.77433272e+00,\n",
       "         4.07011698e-01,  -5.44913013e-01,   3.35617361e-02,\n",
       "         3.95706512e-01,  -6.73860018e-01,   1.48999541e+00,\n",
       "        -1.58419463e+00,   1.59175988e+00,  -8.33620958e-01,\n",
       "         1.17452339e+00,   1.10444523e+00,  -5.02905341e-01,\n",
       "         1.14459121e-01,  -7.94695949e-01,   1.70356233e-01,\n",
       "        -5.28040444e-01,   1.58456015e-01,  -4.49266622e-01,\n",
       "        -5.13237707e-01,   5.64588593e-01,   1.92823235e+00,\n",
       "         8.33068761e-01,   1.38153595e+00,  -2.72698517e-01,\n",
       "         2.74221830e-01,  -7.65174642e-01,   7.96433280e-01,\n",
       "        -1.96897835e-01,   4.17644376e-01,   8.34897592e-01,\n",
       "        -9.98543098e-01,   2.38685897e+00,   1.81823555e-01,\n",
       "        -3.50578826e-01,   3.83031404e-01,   3.93590815e-01,\n",
       "        -1.01011865e+00,   1.41765244e+00,   3.23827932e-01,\n",
       "        -2.32596692e-01,   6.21285776e-01,   5.43317992e-01,\n",
       "         6.94999780e-01,  -1.38868446e-01,   4.68366723e-01,\n",
       "        -1.67019151e-01,  -1.15845116e+00,  -2.90152533e-01,\n",
       "         3.24553970e-01,  -2.16438686e-01,  -8.56789603e-01,\n",
       "        -1.05832880e+00,  -1.25866277e+00,  -1.60527510e-01,\n",
       "        -6.06873090e-01,   3.75011463e-01,   3.63399208e-01,\n",
       "        -4.16459299e-01,  -1.66715525e-01,   9.99269621e-01,\n",
       "        -1.51156239e-01,  -1.27328587e-01,   1.08464390e+00,\n",
       "         1.42402542e+00,   5.04915631e-01,   1.07588938e+00,\n",
       "         5.84373393e-01,   7.74265114e-01,   1.12486404e+00,\n",
       "        -3.26751879e-01,  -8.62370976e-03,   1.85430333e+00,\n",
       "         1.57502882e-01,   8.29779891e-01,  -5.54134580e-02,\n",
       "        -6.88993604e-01,  -4.61660391e-01,   9.67451786e-01,\n",
       "        -3.52490407e-01,  -1.19801877e+00,   7.48620159e-01,\n",
       "         7.40318983e-01,  -2.24102594e+00,   1.88630851e-03,\n",
       "         1.19988048e+00,   8.44866275e-01,  -1.65973350e-01,\n",
       "         2.45081799e+00,   1.27508503e+00,   3.44178430e-01,\n",
       "        -7.88132217e-01,   1.33884772e+00,   6.95318743e-01,\n",
       "         1.63782185e+00,  -8.82186164e-01,   1.45498948e+00,\n",
       "         1.09750624e+00,  -3.93785544e-01,   1.75627432e+00,\n",
       "         1.61165119e-01,  -1.16387809e+00,   1.80714095e+00,\n",
       "         7.14672137e-01,   2.92776685e-01,  -5.73875705e-01,\n",
       "        -8.57046154e-01,   4.96441547e-01,  -5.17387216e-01,\n",
       "        -1.19065125e+00,  -2.34471219e+00,   1.01883652e-01,\n",
       "        -1.38447096e+00,   4.37035875e-01,   3.72615033e-01,\n",
       "         1.88643258e-01,  -1.41342751e+00,   4.01549151e-01,\n",
       "         2.81184121e-01,  -7.51936688e-01,  -3.10014587e-01,\n",
       "        -1.79268728e+00,  -7.53038685e-01,   1.27425504e+00,\n",
       "         1.45314865e+00,  -7.65946642e-01,   5.42586282e-01,\n",
       "         2.38858352e-01,  -1.82436745e+00,  -2.71888137e-01,\n",
       "        -8.02110413e-01,   7.94922691e-01,   7.99739249e-01,\n",
       "        -9.01725301e-01,   1.15516777e+00,   2.32769164e-01,\n",
       "         1.34731177e+00,  -1.15798431e-01,  -1.40280548e-01,\n",
       "        -1.18347380e+00,   7.70506964e-01,   7.59815919e-02,\n",
       "         6.00835920e-01,   1.70263521e+00,   3.74754470e-01,\n",
       "        -1.14196614e+00,  -5.89729437e-01,  -2.16071791e+00,\n",
       "        -7.31723480e-01,  -2.17839450e-01,  -3.45088100e-01,\n",
       "         1.43104602e-01,   8.99396252e-01,   1.51428285e+00,\n",
       "        -5.90170913e-01,   2.73349706e-01,  -3.23511352e-01,\n",
       "         2.01119664e+00,  -1.25274006e+00,   1.67723589e+00,\n",
       "         1.49836081e+00,  -1.55852315e+00,   1.08096398e+00,\n",
       "        -2.75115031e-01,   1.87836162e-01,   9.79710324e-01,\n",
       "         1.03048013e+00,   7.60446011e-01,  -5.58421191e-02,\n",
       "         2.02882054e+00,  -1.01685971e+00,  -1.83167065e+00,\n",
       "         1.39410821e+00,   3.46782084e-01,   1.45352414e+00,\n",
       "         4.57918077e-01,   3.90564836e-01,   6.50274023e-02,\n",
       "         6.04095814e-01,   8.15717942e-01,  -6.92114128e-02,\n",
       "        -7.91684132e-02,   1.75283901e+00,   6.10007998e-01,\n",
       "        -5.31758828e-01,  -7.18095119e-02,   1.21264017e+00,\n",
       "        -8.50049785e-01,   3.98388268e-01,   5.06142512e-01,\n",
       "         9.35204957e-01,  -2.99809485e-01,  -3.40362356e-01,\n",
       "        -4.54750080e-01,  -1.45585919e+00,  -4.87931532e-01,\n",
       "         3.14426171e-01,  -1.93003374e-01,  -4.95124073e-01,\n",
       "         8.19372087e-02,   1.96509094e-01,  -4.99998491e-02,\n",
       "        -2.52773149e+00,   5.05755656e-01,  -1.45200902e+00,\n",
       "        -1.64887724e+00,   1.14049074e+00,   1.31179141e+00,\n",
       "        -3.31515882e-01,   1.80251090e+00,  -9.73274541e-01,\n",
       "        -5.25118021e-01,  -1.46894499e+00,  -1.39766616e+00,\n",
       "         1.25852961e+00,  -1.85999670e-02,  -7.27878134e-01,\n",
       "        -1.20285017e-01,   1.97681462e-01,   7.46011264e-01,\n",
       "        -7.87460595e-01,   4.22598964e-01,  -7.95299546e-01,\n",
       "         6.38211526e-01,   3.32494712e-01,   3.09148515e-01,\n",
       "         6.56519348e-01,  -5.75301738e-01,  -1.17492842e+00,\n",
       "        -4.53957462e-01,  -1.48965861e-01,   1.71955362e+00,\n",
       "        -1.40155271e-01,   1.18249135e+00,  -9.24512080e-01,\n",
       "        -8.62744544e-02,  -2.72721026e+00,   3.23286135e-01,\n",
       "         1.26802187e+00,  -1.01764979e+00,   1.44386623e+00,\n",
       "         1.94727189e-01,  -5.07896045e-01,  -1.21170625e+00,\n",
       "        -8.80437127e-01,   8.27242022e-01,  -5.91841109e-01,\n",
       "         2.40811787e-01,  -2.99044725e-01,   1.50039060e+00,\n",
       "         1.31996731e+00,   1.35957693e+00,  -1.05689236e+00,\n",
       "        -1.80646591e+00,   4.53986227e-01,  -1.15380238e+00,\n",
       "        -1.75713681e+00,  -7.41309184e-01,  -7.38120426e-01,\n",
       "        -1.91186446e+00,   4.13920204e-01,  -4.83748281e-01,\n",
       "         8.77263145e-01,  -4.18170376e-02,   1.07083575e+00,\n",
       "         7.24266480e-01,  -2.19066715e+00,  -1.33131271e+00,\n",
       "         1.10029309e+00,  -7.49408425e-01,  -1.70059028e+00,\n",
       "         1.11506728e+00,   1.21032507e+00,   1.64441241e+00,\n",
       "        -5.84888296e-01,  -1.98766819e+00,  -1.25163794e+00,\n",
       "        -9.34315215e-01,   4.16642009e-01,  -1.48653895e+00,\n",
       "         2.16900960e-02,   7.27827795e-01,   8.84191150e-01,\n",
       "        -1.45958321e+00,   4.28220281e-01,   7.91462945e-03,\n",
       "         2.24558488e-01,  -2.49070419e-01,  -1.06154851e+00,\n",
       "         3.34194162e-01,  -1.46045755e+00,  -3.65411274e-01,\n",
       "        -8.63085689e-01,  -7.57719626e-01,   1.31291753e+00,\n",
       "         5.77015600e-01,  -7.61728219e-01,   1.63843486e-01,\n",
       "         1.11056412e+00,  -1.59596751e-01,   7.29018689e-01,\n",
       "         9.12167228e-01,  -1.12193358e+00,  -4.59548656e-01,\n",
       "        -6.19195756e-01,   1.38705406e+00,  -5.16844491e-01,\n",
       "        -3.10562822e-01,   2.23338844e+00,   5.31780335e-01,\n",
       "        -1.26254987e+00,   1.41462158e-01,  -9.28488428e-01,\n",
       "         1.36530148e+00,  -2.79282787e-01,   1.06698703e+00,\n",
       "         1.19151723e+00,  -1.23722985e+00,  -9.37795022e-01,\n",
       "        -8.19576892e-01,   1.10613345e+00,   2.12935977e-01,\n",
       "        -1.01303932e+00,  -3.41730015e-01,  -1.14673431e+00,\n",
       "        -2.01382684e+00,   8.77054797e-01,   2.19364286e+00,\n",
       "         7.90390559e-01,  -1.16278284e+00,   1.71393692e+00,\n",
       "         9.86056339e-02,  -6.09670197e-01,  -9.83124485e-01,\n",
       "        -8.37388050e-01,  -1.06053011e+00,  -1.56236594e+00,\n",
       "        -2.00672403e-01,   2.27680428e+00,   5.39256796e-01,\n",
       "         4.63430078e-01,   1.26385858e+00,  -1.62742890e+00,\n",
       "        -1.10537749e+00,   1.44528956e+00,  -5.70281284e-01,\n",
       "         9.64610499e-02,   4.94989530e-01,  -1.21134574e+00,\n",
       "        -1.68449351e+00,  -1.36985758e+00])"
      ]
     },
     "execution_count": 6,
     "metadata": {},
     "output_type": "execute_result"
    }
   ],
   "source": [
    "alpha_vector"
   ]
  },
  {
   "cell_type": "markdown",
   "metadata": {},
   "source": [
    "## Simulate optimized portfolio weights\n",
    "You'll learn about optimization using a risk model and constraints in a later lesson.  For, now, we'll simulate portfolio weight optimization by adding some adjustments to the original alpha vector, and pretending these adjusted values are the portfolio weights that are output by an optimizer."
   ]
  },
  {
   "cell_type": "code",
   "execution_count": 7,
   "metadata": {},
   "outputs": [],
   "source": [
    "def simulate_optimized_weights(alpha_vector):\n",
    "    standard_alpha_vector = standardize_alpha(alpha_vector)\n",
    "    #add some noise that simulates optimization adjusting the weights.\n",
    "    optimized_weights = standard_alpha_vector + np.random.normal(scale=0.001, size=num_stocks)\n",
    "    return optimized_weights"
   ]
  },
  {
   "cell_type": "code",
   "execution_count": 8,
   "metadata": {},
   "outputs": [],
   "source": [
    "optimized_weights = simulate_optimized_weights(alpha_vector)"
   ]
  },
  {
   "cell_type": "code",
   "execution_count": 9,
   "metadata": {},
   "outputs": [
    {
     "data": {
      "text/plain": [
       "array([  8.57934227e-04,  -6.20638416e-03,   3.36174624e-04,\n",
       "        -2.44567844e-04,   3.13016143e-03,   2.20454548e-03,\n",
       "        -1.67474101e-03,   1.89456966e-03,  -1.61065932e-03,\n",
       "        -3.96330335e-03,   1.75432374e-03,   3.85916958e-03,\n",
       "        -2.30266731e-03,  -4.44554132e-04,  -1.93871263e-03,\n",
       "        -1.78712875e-03,   1.29287814e-03,   8.19055645e-04,\n",
       "         3.99286248e-03,   9.14392221e-04,   1.13252974e-03,\n",
       "         1.58728193e-03,  -2.29277031e-03,  -6.63660108e-03,\n",
       "        -3.28139975e-03,  -3.12157654e-03,   2.84723392e-03,\n",
       "         1.97915697e-04,   7.94936911e-04,  -4.03023740e-03,\n",
       "         1.44518115e-03,   2.39371953e-03,  -1.78766394e-03,\n",
       "        -4.62943172e-03,   4.38900495e-03,  -9.53190083e-04,\n",
       "         1.44932470e-03,  -3.05237790e-03,  -2.11308122e-03,\n",
       "        -2.32895725e-03,   1.71405903e-03,   1.65980392e-03,\n",
       "        -3.09991501e-03,   1.26330350e-03,  -4.80420388e-04,\n",
       "        -2.74270875e-03,   1.41393108e-03,  -9.09306305e-05,\n",
       "        -2.62530126e-03,   2.71985276e-03,  -3.07148738e-03,\n",
       "         1.74501482e-03,  -1.74145427e-03,   7.55795896e-04,\n",
       "        -2.10474382e-04,  -4.42855436e-03,  -3.04805616e-03,\n",
       "        -2.22422059e-03,   5.64490932e-04,  -1.31431515e-03,\n",
       "        -3.30337501e-04,   1.86521998e-03,   4.57178214e-04,\n",
       "        -7.89808877e-05,   2.74043428e-03,   2.04946172e-03,\n",
       "        -1.12658509e-04,  -1.91773158e-03,  -3.09316063e-03,\n",
       "         1.55371311e-03,  -1.07883327e-03,  -2.71116404e-03,\n",
       "        -2.82996751e-03,   1.33891220e-03,  -2.18873735e-03,\n",
       "         3.11439222e-03,  -3.03336149e-03,  -2.22809819e-03,\n",
       "        -2.31314571e-03,  -4.50557351e-03,   2.82093800e-03,\n",
       "         1.81555092e-04,   3.03131731e-03,   2.93780182e-03,\n",
       "        -1.24396324e-03,  -1.26052530e-03,  -7.06137925e-04,\n",
       "         1.23120357e-03,  -8.66696211e-05,  -8.43137005e-04,\n",
       "        -2.25383744e-03,  -3.34690593e-03,  -1.25127291e-03,\n",
       "         8.67896866e-05,   4.27422950e-03,   5.37075434e-04,\n",
       "         3.17259814e-03,  -2.13483878e-03,   3.29394149e-03,\n",
       "        -6.90907903e-04,   3.00160727e-03,   9.70996230e-04,\n",
       "         3.65425181e-03,  -1.49289571e-03,  -5.06527137e-03,\n",
       "         4.37605304e-03,   2.00649825e-03,  -3.16450634e-03,\n",
       "        -1.35974068e-03,   3.36145927e-03,   3.33760694e-03,\n",
       "         6.25136662e-04,   3.32879113e-03,  -1.32165473e-03,\n",
       "        -1.15190803e-03,  -2.89294370e-04,   3.39307659e-03,\n",
       "         2.40185295e-03,   5.40042017e-03,  -3.75063597e-03,\n",
       "         5.33104889e-04,   5.30415492e-04,   6.99682936e-04,\n",
       "         4.27594651e-03,   3.46766255e-03,   2.74800237e-04,\n",
       "         2.59276695e-03,   1.19346677e-03,  -2.23109424e-03,\n",
       "        -7.17191421e-04,   2.27031801e-03,  -9.54978559e-06,\n",
       "        -1.55609337e-04,  -1.60373444e-03,  -2.23572235e-03,\n",
       "         4.02876573e-03,   5.37551824e-04,  -3.98443853e-03,\n",
       "         1.97242458e-03,   1.05892806e-03,  -2.70983884e-03,\n",
       "         2.20575311e-03,  -1.16276232e-03,  -2.93441946e-03,\n",
       "         3.57974588e-03,  -2.31081212e-03,   2.78536560e-03,\n",
       "        -7.87924048e-04,   4.78808948e-04,   4.62280253e-03,\n",
       "         6.25819187e-04,  -2.05560092e-03,  -1.50962493e-03,\n",
       "         1.47011614e-03,  -2.01122878e-03,   2.80661691e-03,\n",
       "        -4.83900348e-03,   3.07876522e-03,  -3.86941039e-03,\n",
       "         9.34622781e-04,   3.39224681e-03,  -3.97332303e-03,\n",
       "        -3.63686080e-04,  -9.90966012e-04,   5.53741601e-04,\n",
       "        -2.92975663e-04,   7.45985040e-04,  -2.26541055e-03,\n",
       "         1.49258865e-04,   7.80764200e-05,   4.59050746e-03,\n",
       "         2.74892174e-03,   3.28981037e-03,   1.04309165e-03,\n",
       "         2.56281727e-04,  -7.27099278e-04,   1.83903193e-03,\n",
       "         5.29782052e-04,   1.44837350e-03,   1.79239449e-03,\n",
       "        -3.61672348e-03,   6.35299012e-03,  -1.91085490e-03,\n",
       "        -6.97139692e-04,   1.98023672e-03,   2.29580457e-03,\n",
       "        -2.50861446e-03,   3.58911716e-03,   2.52487517e-04,\n",
       "         1.53224593e-04,   1.13596842e-03,   8.12409990e-04,\n",
       "         4.35193594e-03,  -7.58650298e-04,   9.99274913e-04,\n",
       "        -4.67735017e-05,  -1.59104400e-03,  -8.48115047e-04,\n",
       "         9.80615907e-04,  -8.54064136e-04,  -2.25429013e-03,\n",
       "        -1.98271146e-03,  -3.67335469e-03,  -2.27769986e-04,\n",
       "        -1.85245023e-03,   1.86853546e-03,   2.44991309e-03,\n",
       "        -1.94740919e-03,  -1.85388632e-03,   3.83309213e-04,\n",
       "        -1.36371218e-03,  -7.45494504e-04,   1.59640926e-03,\n",
       "         3.85487524e-03,   1.49324148e-03,   1.84762047e-03,\n",
       "         1.10585578e-03,   1.20301771e-03,   3.01448585e-03,\n",
       "         6.53451942e-04,  -1.84533169e-03,   3.75523021e-03,\n",
       "         2.02824690e-03,   7.26168714e-04,  -5.08840217e-04,\n",
       "        -2.57643971e-03,  -8.40521463e-05,   7.79662620e-04,\n",
       "        -8.97238785e-04,  -2.12273559e-03,   1.23702113e-03,\n",
       "         1.11229855e-03,  -6.07990639e-03,  -1.46604760e-03,\n",
       "         3.48611538e-03,   2.19260092e-03,  -8.51199428e-04,\n",
       "         5.02062704e-03,   4.53034800e-03,   2.15386777e-03,\n",
       "        -2.59341297e-04,   3.52676464e-03,   2.13649144e-03,\n",
       "         4.56450539e-03,  -3.42387870e-03,   2.29889932e-03,\n",
       "         2.63325599e-03,  -2.73371939e-04,   4.17890433e-03,\n",
       "         2.79627693e-04,  -1.85713999e-03,   3.97784029e-03,\n",
       "         2.96902898e-03,  -2.37720738e-04,  -4.54537208e-04,\n",
       "        -1.56661128e-03,   7.50945509e-04,  -1.31175740e-03,\n",
       "        -2.70477417e-03,  -6.18474961e-03,  -1.26039741e-04,\n",
       "        -1.84439231e-03,   1.48090404e-03,   1.88860893e-03,\n",
       "         7.98362656e-05,  -4.24599095e-03,   1.63479219e-03,\n",
       "        -5.97471730e-04,  -1.84042687e-03,  -5.09774418e-04,\n",
       "        -3.97753681e-03,  -8.21890363e-04,   2.11880706e-03,\n",
       "         3.25157063e-03,  -2.15229155e-03,   1.36461268e-03,\n",
       "         4.02484406e-04,  -3.69218432e-03,  -1.21026590e-03,\n",
       "        -3.29353492e-03,   3.49694961e-03,   2.48067166e-03,\n",
       "        -3.42419403e-03,   2.12649963e-03,   5.54873681e-04,\n",
       "         3.50152768e-03,   1.81798091e-04,  -8.51376644e-04,\n",
       "        -3.06876563e-03,   1.43766607e-03,  -4.36020822e-04,\n",
       "         1.85691443e-03,   4.12813443e-03,   1.19040874e-03,\n",
       "        -2.91165218e-03,  -1.39893657e-03,  -7.63190191e-03,\n",
       "        -2.91558681e-03,  -2.51600920e-03,  -2.26492236e-03,\n",
       "         2.22607414e-04,   1.73691782e-03,   3.25876403e-03,\n",
       "        -2.29751311e-03,  -6.49434860e-04,  -1.41519086e-03,\n",
       "         4.14367079e-03,  -3.41895681e-03,   4.27939196e-03,\n",
       "         2.24725739e-03,  -2.95997081e-03,   2.94326880e-03,\n",
       "        -3.06403492e-03,   2.34549096e-03,   1.79354040e-03,\n",
       "         3.08043407e-03,   4.23527914e-03,   5.06991262e-04,\n",
       "         4.49407084e-03,  -2.86910421e-03,  -4.92640956e-03,\n",
       "         3.59598750e-03,   1.37319913e-03,   3.81492500e-03,\n",
       "         1.35334311e-03,   8.69298954e-04,  -2.44533610e-04,\n",
       "        -1.35592508e-04,   3.59761529e-03,  -7.14039483e-04,\n",
       "        -7.30180510e-04,   5.63853620e-03,   1.11165876e-03,\n",
       "        -1.23351522e-03,  -1.17637734e-03,   1.64364946e-03,\n",
       "        -1.72507773e-03,   1.00452703e-04,   2.06885769e-03,\n",
       "         4.18605039e-03,   1.15517423e-03,   4.34966492e-04,\n",
       "        -2.51978960e-03,  -2.11568072e-03,   5.56952851e-04,\n",
       "        -2.07778560e-04,  -2.84457322e-03,  -2.45981508e-03,\n",
       "         1.71724377e-04,   8.94719839e-04,  -3.47773285e-04,\n",
       "        -7.34914750e-03,   3.43686286e-04,  -3.79555125e-03,\n",
       "        -3.88069541e-03,   3.76975354e-03,   4.87065215e-03,\n",
       "        -2.58218444e-04,   5.36689215e-03,  -1.70093079e-03,\n",
       "        -1.13086451e-04,  -4.22944793e-03,  -3.37540944e-03,\n",
       "         2.89880873e-03,  -3.08280571e-04,  -2.84286830e-03,\n",
       "        -1.25033053e-03,   1.14517208e-03,   1.74478053e-03,\n",
       "        -8.32704113e-04,   6.25763684e-04,  -1.85177516e-03,\n",
       "         2.10645834e-03,   1.62603355e-03,   2.28023937e-03,\n",
       "         1.27471226e-03,  -1.19302978e-03,  -3.90927913e-03,\n",
       "         6.06776802e-04,   9.46729452e-04,   3.81513312e-03,\n",
       "        -1.35509599e-04,   2.78311224e-03,  -2.57513785e-03,\n",
       "        -7.75232826e-04,  -7.91721913e-03,  -3.13578247e-04,\n",
       "         3.39484340e-03,  -3.45895648e-03,   3.61187052e-03,\n",
       "        -1.30631868e-05,  -9.28922640e-06,  -3.46939479e-03,\n",
       "        -2.75119876e-03,   2.49809565e-03,  -1.00732150e-03,\n",
       "         2.61642281e-03,   2.08067621e-04,   2.11105138e-03,\n",
       "         2.76579035e-03,   4.10501954e-03,  -3.38786601e-03,\n",
       "        -5.54605095e-03,  -8.36342337e-04,  -1.19344731e-03,\n",
       "        -4.31872688e-03,  -1.82227586e-03,  -1.98934163e-03,\n",
       "        -4.64137980e-03,   1.41632384e-03,  -3.53172807e-04,\n",
       "         2.01484304e-03,  -2.05811831e-03,   2.79687876e-03,\n",
       "        -2.31346447e-04,  -3.36004146e-03,  -2.89293644e-03,\n",
       "         3.36335018e-03,  -2.63294979e-03,  -5.30558856e-03,\n",
       "         2.58400327e-03,   2.52345753e-03,   5.65649419e-03,\n",
       "        -2.48704182e-03,  -3.61962847e-03,  -3.03826894e-03,\n",
       "        -1.28663679e-03,   7.59684205e-04,  -2.65023769e-03,\n",
       "        -2.07786001e-04,   1.79225419e-03,   2.81258433e-03,\n",
       "        -3.64377599e-03,   9.55061854e-04,  -1.78064610e-04,\n",
       "        -3.19885560e-05,  -8.35452772e-06,  -3.50478253e-03,\n",
       "         1.19594976e-03,  -3.56759219e-03,  -1.03195029e-03,\n",
       "        -2.28070826e-03,  -6.61190086e-04,   3.34339264e-03,\n",
       "         2.48344250e-03,  -5.31665352e-03,   3.49202602e-04,\n",
       "         2.95028379e-03,  -2.92327004e-04,   1.91634237e-03,\n",
       "         1.15274292e-03,  -4.04421532e-03,  -2.72943456e-03,\n",
       "        -2.00327672e-03,   3.84588275e-03,  -2.75491803e-03,\n",
       "        -2.00439577e-03,   6.26902449e-03,   9.42354090e-04,\n",
       "        -1.06518687e-03,  -2.04676012e-03,  -3.29365066e-03,\n",
       "         2.49800503e-03,   1.45796230e-04,   2.05335642e-03,\n",
       "         4.09875049e-03,  -1.88569635e-03,  -2.23483905e-03,\n",
       "        -2.59000893e-03,   9.64515870e-04,  -1.06674727e-03,\n",
       "        -2.99480607e-03,  -1.43528199e-03,  -2.39557381e-03,\n",
       "        -4.87059468e-03,   3.35436337e-03,   5.77983724e-03,\n",
       "         5.18354488e-04,  -2.38997819e-03,   4.25198140e-03,\n",
       "         8.00931957e-04,  -1.21022691e-03,  -2.18762336e-03,\n",
       "        -2.35156656e-03,  -7.69796345e-04,  -4.47133193e-03,\n",
       "         5.99324522e-04,   5.23312177e-03,   1.61136183e-03,\n",
       "        -7.25013770e-04,   1.42908655e-03,  -3.62967784e-03,\n",
       "        -4.04481731e-03,   3.91003569e-03,  -1.12012476e-03,\n",
       "        -4.57206914e-04,  -1.24986710e-03,  -4.24575163e-03,\n",
       "        -3.43588530e-03,  -3.04870062e-03])"
      ]
     },
     "execution_count": 9,
     "metadata": {},
     "output_type": "execute_result"
    }
   ],
   "source": [
    "optimized_weights"
   ]
  },
  {
   "cell_type": "markdown",
   "metadata": {},
   "source": [
    "## Visualize alpha vector versus optimized weights"
   ]
  },
  {
   "cell_type": "code",
   "execution_count": 14,
   "metadata": {},
   "outputs": [
    {
     "data": {
      "image/png": "[encoded data removed]",
      "text/plain": [
       "<matplotlib.figure.Figure at 0x7f95984cde48>"
      ]
     },
     "metadata": {
      "needs_background": "light"
     },
     "output_type": "display_data"
    }
   ],
   "source": [
    "plt.scatter(alpha_vector,optimized_weights);\n",
    "#plt.scatter(alpha_vector,alpha_vector);"
   ]
  },
  {
   "cell_type": "code",
   "execution_count": 15,
   "metadata": {},
   "outputs": [],
   "source": [
    "def calculate_transfer_coefficient(alpha_vector, optimized_weights):\n",
    "    #TODO calculate the transfer coefficient\n",
    "    transfer_coefficient, pvalue = pearsonr(alpha_vector, optimized_weights)\n",
    "    return transfer_coefficient"
   ]
  },
  {
   "cell_type": "code",
   "execution_count": 16,
   "metadata": {},
   "outputs": [],
   "source": [
    "transfer_coefficient = calculate_transfer_coefficient(alpha_vector, optimized_weights)"
   ]
  },
  {
   "cell_type": "code",
   "execution_count": 17,
   "metadata": {},
   "outputs": [
    {
     "name": "stdout",
     "output_type": "stream",
     "text": [
      "The transfer coefficient is 0.9235\n"
     ]
    }
   ],
   "source": [
    "print(f\"The transfer coefficient is {transfer_coefficient:.4f}\") "
   ]
  },
  {
   "cell_type": "markdown",
   "metadata": {},
   "source": [
    "## Solution notebook\n",
    "[The solution notebook is here.](transfer_coefficient_solution.ipynb)"
   ]
  }
 ],
 "metadata": {
  "kernelspec": {
   "display_name": "Python 3",
   "language": "python",
   "name": "python3"
  },
  "language_info": {
   "codemirror_mode": {
    "name": "ipython",
    "version": 3
   },
   "file_extension": ".py",
   "mimetype": "text/x-python",
   "name": "python",
   "nbconvert_exporter": "python",
   "pygments_lexer": "ipython3",
   "version": "3.6.3"
  }
 },
 "nbformat": 4,
 "nbformat_minor": 2
}
