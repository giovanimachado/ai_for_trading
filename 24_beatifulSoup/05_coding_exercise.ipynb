{
 "cells": [
  {
   "cell_type": "markdown",
   "metadata": {},
   "source": [
    "# Coding Exercise: Get Headers and Paragraphs\n",
    "\n",
    "In the cell below, use what you learned in the previous lessons to print only the text from all the `<h2>` and `<p>` tags inside the `<div>` tags that have a `class=\"section\"` attribute. For this quiz use the `sampe.html` file."
   ]
  },
  {
   "cell_type": "code",
   "execution_count": 4,
   "metadata": {},
   "outputs": [
    {
     "name": "stdout",
     "output_type": "stream",
     "text": [
      "<!DOCTYPE html>\n",
      "<html lang=\"en-US\">\n",
      " <head>\n",
      "  <title>\n",
      "   AI For Trading\n",
      "  </title>\n",
      "  <meta charset=\"utf-8\"/>\n",
      "  <link href=\"./teststyle.css\" rel=\"stylesheet\"/>\n",
      "  <style>\n",
      "   .h2style {background-color: tomato;color: white;padding: 10px;}\n",
      "  </style>\n",
      " </head>\n",
      " <body>\n",
      "  <h1 id=\"intro\">\n",
      "   Get Help From Peers and Mentors\n",
      "  </h1>\n",
      "  <div class=\"section\">\n",
      "   <h2 class=\"h2style\" id=\"hub\">\n",
      "    Student Hub\n",
      "   </h2>\n",
      "   <p>\n",
      "    Student Hub is our real time collaboration platform where you can work with peers and mentors. You will find Community rooms with other students and alumni.\n",
      "   </p>\n",
      "  </div>\n",
      "  <hr/>\n",
      "  <div class=\"section\">\n",
      "   <h2 class=\"h2style\" id=\"know\">\n",
      "    Knowledge\n",
      "   </h2>\n",
      "   <p>\n",
      "    Search or ask questions in\n",
      "    <a href=\"https://knowledge.udacity.com/\">\n",
      "     Knowledge\n",
      "    </a>\n",
      "   </p>\n",
      "  </div>\n",
      "  <div class=\"outro\">\n",
      "   <h3 id=\"know\">\n",
      "    Good Luck\n",
      "   </h3>\n",
      "   <p>\n",
      "    Good luck and we hope you enjoy the course\n",
      "   </p>\n",
      "  </div>\n",
      " </body>\n",
      "</html>\n"
     ]
    }
   ],
   "source": [
    "# Import BeautifulSoup\n",
    "from bs4 import BeautifulSoup\n",
    "\n",
    "# Open the HTML file and create a BeautifulSoup Object\n",
    "with open('./sample.html') as f:\n",
    "    page_content = BeautifulSoup(f, 'lxml')\n",
    "    \n",
    "print(page_content.prettify())"
   ]
  },
  {
   "cell_type": "code",
   "execution_count": 1,
   "metadata": {},
   "outputs": [
    {
     "name": "stdout",
     "output_type": "stream",
     "text": [
      "Student Hub\n",
      "Student Hub is our real time collaboration platform where you can work with peers and mentors. You will find Community rooms with other students and alumni.\n",
      "\n",
      "Knowledge\n",
      "Search or ask questions in Knowledge\n",
      "\n"
     ]
    }
   ],
   "source": [
    "# Import BeautifulSoup\n",
    "from bs4 import BeautifulSoup\n",
    "\n",
    "# Open the HTML file and create a BeautifulSoup Object\n",
    "with open('./sample.html') as f:\n",
    "    page_content = BeautifulSoup(f, 'lxml')\n",
    "\n",
    "# Print only the text from all the <h2> and <p> tags inside the <div> tags that have a class=\"section\" attribute\n",
    "for section in page_content.find_all('div', class_='section'):\n",
    "    header = section.h2.get_text()\n",
    "    print(header)\n",
    "    paragraph = section.p.get_text()\n",
    "    print(paragraph)\n",
    "    print()"
   ]
  },
  {
   "cell_type": "markdown",
   "metadata": {},
   "source": [
    "# Solution\n",
    "\n",
    "[Solution notebook](coding_exercise_solution.ipynb)"
   ]
  }
 ],
 "metadata": {
  "kernelspec": {
   "display_name": "Python 3",
   "language": "python",
   "name": "python3"
  },
  "language_info": {
   "codemirror_mode": {
    "name": "ipython",
    "version": 3
   },
   "file_extension": ".py",
   "mimetype": "text/x-python",
   "name": "python",
   "nbconvert_exporter": "python",
   "pygments_lexer": "ipython3",
   "version": "3.6.3"
  }
 },
 "nbformat": 4,
 "nbformat_minor": 2
}
